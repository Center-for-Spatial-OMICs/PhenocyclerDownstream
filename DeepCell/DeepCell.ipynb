{
 "cells": [
  {
   "cell_type": "code",
   "execution_count": null,
   "metadata": {},
   "outputs": [],
   "source": [
    "from matplotlib import pyplot as plt\n",
    "import numpy as np\n",
    "# from deepcell.datasets import TissueNetSample\n",
    "from deepcell.utils.plot_utils import create_rgb_image, make_outline_overlay\n",
    "from PIL import Image"
   ]
  },
  {
   "cell_type": "code",
   "execution_count": null,
   "metadata": {},
   "outputs": [],
   "source": [
    "from skimage.io import imread, imshow\n",
    "image = imread('20221220_S17_7722_E4_Scan1.tif')\n",
    "# imshow(image/image.max())\n",
    "# imshow(image[0, ...]) # show DAPI channel"
   ]
  },
  {
   "cell_type": "code",
   "execution_count": null,
   "metadata": {},
   "outputs": [],
   "source": [
    "# Download multiplex data\n",
    "# X, y, _ = TissueNetSample().load_data()\n",
    "\n",
    "# nuclear_img = Image.open('./20221220_S17_7722_E4_Scan1_nuclear.jpg')\n",
    "# membrane_img = Image.open('./20221220_S17_7722_E4_Scan1_membrane.jpg')\n",
    "# X_nuclear = np.asarray(nuclear_img)\n",
    "# X_membrane = np.asarray(membrane_img)\n",
    "\n",
    "X = np.random.rand(1, np.shape(image)[1], np.shape(image)[2], 2)\n",
    "X[0, ..., 0] = image[0,:,:]\n",
    "X[0, ..., 1] = image[0,:,:]\n",
    "# X[0, ..., 1] = image[11,:,:]+image[10,:,:]+image[26,:,:] #  CD31 + E cadherin + CD45\n",
    "# X[0, ..., 1] = image[8,:,:]+image[10,:,:]+image[64,:,:] # Vimentin + E Cadherin + Pan Cytokeratin\n",
    "# X[0, ..., 1] = image[10,:,:]+image[63,:,:] # E cadherin + Ki67\n",
    "\n",
    "rgb_images = create_rgb_image(X, channel_colors=['green', 'blue'])\n",
    "fig, ax = plt.subplots(1, 3, figsize=(15, 5))\n",
    "ax[0].imshow(X[0, ..., 0], cmap='Greys_r')\n",
    "ax[1].imshow(X[0, ..., 1], cmap='Greys_r')\n",
    "ax[2].imshow(rgb_images[0, ...])\n",
    "\n",
    "ax[0].set_title('Nuclear channel')\n",
    "ax[1].set_title('Membrane channel')\n",
    "ax[2].set_title('Overlay')\n",
    "\n",
    "for a in ax:\n",
    "    a.axis('off')\n",
    "\n",
    "plt.show()\n",
    "fig.savefig('mesmer-input.png')"
   ]
  },
  {
   "cell_type": "code",
   "execution_count": null,
   "metadata": {},
   "outputs": [],
   "source": [
    "# token: SibhZsQN.KZdnQdigkeQZtnSJVJlxoIrKiKEdj33W\n",
    "import os\n",
    "os.environ.update({\"DEEPCELL_ACCESS_TOKEN\": \"SibhZsQN.KZdnQdigkeQZtnSJVJlxoIrKiKEdj33W\"})\n",
    "from deepcell.applications import Mesmer\n",
    "app = Mesmer()"
   ]
  },
  {
   "cell_type": "markdown",
   "metadata": {},
   "source": [
    "print('Training Resolution:', app.model_mpp, 'microns per pixel')\n",
    "\n",
    "# segmentation_predictions = app.predict(X, image_mpp=0.5)\n",
    "# overlay_data = make_outline_overlay(rgb_data=rgb_images, predictions=segmentation_predictions)\n",
    "idx = 0\n",
    "\n",
    "labeled_image = np.zeros_like(X)\n",
    "step_size = 4000\n",
    "\n",
    "for row in range(0, labeled_image.shape[0], step_size):\n",
    "      for col in range(0, labeled_image.shape[1], step_size):\n",
    "           labeled_image[row:(row + step_size), col:(col + step_size)] = app.predict(X[row:(row + step_size), col:(col + step_size)])\n",
    "\n",
    "overlay_data = make_outline_overlay(rgb_data=rgb_images, predictions=labeled_image)\n",
    "\n",
    "# plot the data\n",
    "fig, ax = plt.subplots(1, 2, figsize=(10, 5))\n",
    "ax[0].imshow(rgb_images[idx, ...])\n",
    "ax[1].imshow(overlay_data[idx, ...])\n",
    "\n",
    "ax[0].set_title('Raw data')\n",
    "ax[1].set_title('Predictions')\n",
    "\n",
    "for a in ax:\n",
    "    a.axis('off')\n",
    "\n",
    "plt.show()\n",
    "fig.savefig('mesmer-wc.png')"
   ]
  },
  {
   "cell_type": "code",
   "execution_count": null,
   "metadata": {},
   "outputs": [],
   "source": [
    "idx = 0\n",
    "segmentation_predictions_expansion = np.zeros_like(X)\n",
    "step_size = 10000\n",
    "for row in range(0, segmentation_predictions_expansion.shape[0], step_size):\n",
    "      for col in range(0, segmentation_predictions_expansion.shape[1], step_size):\n",
    "        segmentation_predictions_expansion[row:(row + step_size), col:(col + step_size)] = app.predict(\n",
    "            X[row:(row + step_size), col:(col + step_size)],\n",
    "            image_mpp=0.5,\n",
    "            compartment='nuclear',\n",
    "            postprocess_kwargs_nuclear={'pixel_expansion': 5}\n",
    "        )\n",
    "\n",
    "overlay_data_expansion = make_outline_overlay(\n",
    "    rgb_data=rgb_images,\n",
    "    predictions=segmentation_predictions_expansion\n",
    ")"
   ]
  },
  {
   "cell_type": "code",
   "execution_count": null,
   "metadata": {},
   "outputs": [],
   "source": [
    "idx = 0\n",
    "print(np.shape(overlay_data_expansion))\n",
    "plt.figure(figsize=(200,200))\n",
    "plt.imshow(overlay_data_expansion[idx, ..., 2])\n",
    "# plt.imshow(segmentation_predictions_expansion[idx, ..., 0])\n",
    "plt.axis('off')\n",
    "plt.show()"
   ]
  },
  {
   "cell_type": "code",
   "execution_count": null,
   "metadata": {},
   "outputs": [],
   "source": [
    "import pandas as pd\n",
    "pd.DataFrame(overlay_data_expansion[0, ..., 0]).to_csv('deepcellmask.csv', index=False, header=False)\n",
    "# pd.DataFrame(segmentation_predictions_expansion[0,...,0]).to_csv('segmentation_predictions_expansion0.csv', index=False, header=False)\n",
    "# pd.DataFrame(segmentation_predictions_expansion[0,...,1]).to_csv('segmentation_predictions_expansion1.csv', index=False, header=False)"
   ]
  },
  {
   "cell_type": "code",
   "execution_count": null,
   "metadata": {},
   "outputs": [],
   "source": [
    "import pandas as pd\n",
    "temp0 = pd.read_csv('segmentation_predictions_expansion0.csv', index_col=False, header=None)\n",
    "temp1 = pd.read_csv('segmentation_predictions_expansion1.csv', index_col=False, header=None)\n",
    "output = np.random.rand(1, np.shape(temp0)[0], np.shape(temp0)[1], 2)\n",
    "output[0,...,0] = temp0\n",
    "output[0,...,1] = temp1"
   ]
  }
 ],
 "metadata": {
  "kernelspec": {
   "display_name": "stlearn",
   "language": "python",
   "name": "python3"
  },
  "language_info": {
   "codemirror_mode": {
    "name": "ipython",
    "version": 3
   },
   "file_extension": ".py",
   "mimetype": "text/x-python",
   "name": "python",
   "nbconvert_exporter": "python",
   "pygments_lexer": "ipython3",
   "version": "3.8.18"
  },
  "orig_nbformat": 4
 },
 "nbformat": 4,
 "nbformat_minor": 2
}
